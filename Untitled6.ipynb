{
  "nbformat": 4,
  "nbformat_minor": 0,
  "metadata": {
    "colab": {
      "provenance": [],
      "authorship_tag": "ABX9TyMeghR9Pf2Dr6BhclJ4AP12",
      "include_colab_link": true
    },
    "kernelspec": {
      "name": "python3",
      "display_name": "Python 3"
    },
    "language_info": {
      "name": "python"
    }
  },
  "cells": [
    {
      "cell_type": "markdown",
      "metadata": {
        "id": "view-in-github",
        "colab_type": "text"
      },
      "source": [
        "<a href=\"https://colab.research.google.com/github/wan1112/0713/blob/main/Untitled6.ipynb\" target=\"_parent\"><img src=\"https://colab.research.google.com/assets/colab-badge.svg\" alt=\"Open In Colab\"/></a>"
      ]
    },
    {
      "cell_type": "code",
      "execution_count": 1,
      "metadata": {
        "colab": {
          "base_uri": "https://localhost:8080/"
        },
        "id": "tU-qgLFZYPrz",
        "outputId": "d1cd8ba9-8aba-47a8-c57a-f07fbcfff1ef"
      },
      "outputs": [
        {
          "output_type": "stream",
          "name": "stdout",
          "text": [
            "data.csv檔案已經生成。\n"
          ]
        }
      ],
      "source": [
        "import csv\n",
        "\n",
        "# 模擬的資料\n",
        "data = [\n",
        "    ['年份', '銷售額'],\n",
        "    ['2019', 10000],\n",
        "    ['2020', 12000],\n",
        "    ['2021', 15000],\n",
        "    ['2022', 18000]\n",
        "]\n",
        "\n",
        "# 將資料寫入data.csv檔案\n",
        "with open('data.csv', 'w', newline='') as csvfile:\n",
        "    csvwriter = csv.writer(csvfile)\n",
        "    csvwriter.writerows(data)\n",
        "\n",
        "print(\"data.csv檔案已經生成。\")\n"
      ]
    }
  ]
}